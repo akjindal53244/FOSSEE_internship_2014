{
 "worksheets": [
  {
   "cells": [
    {
     "cell_type": "heading",
     "metadata": {},
     "level": 1,
     "source": [
      "Chapter 1: Introduction"
     ]
    }
   ]
  }
 ],
 "cells": [],
 "metadata": {
  "name": "Chapter1"
 },
 "nbformat": 4,
 "nbformat_minor": 0
}